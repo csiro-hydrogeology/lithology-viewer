{
 "cells": [
  {
   "cell_type": "code",
   "execution_count": null,
   "metadata": {
    "ExecuteTime": {
     "end_time": "2018-02-27T01:54:38.357642Z",
     "start_time": "2018-02-27T01:54:36.460827Z"
    },
    "init_cell": true
   },
   "outputs": [],
   "source": [
    "import os\n",
    "import sys\n",
    "import pandas as pd\n",
    "import numpy as np\n",
    "import matplotlib.pyplot as plt\n",
    "import rasterio\n",
    "from rasterio.plot import show\n",
    "import geopandas as gpd\n",
    "import pickle\n"
   ]
  },
  {
   "cell_type": "code",
   "execution_count": null,
   "metadata": {},
   "outputs": [],
   "source": [
    "data_path = None"
   ]
  },
  {
   "cell_type": "code",
   "execution_count": null,
   "metadata": {},
   "outputs": [],
   "source": [
    "#data_path = '/home/myusername/data' # On Linux, if you now have the folder /home/myusername/data/Bungendore\n",
    "#data_path = r'C:\\data\\Lithology'  # windows, if you have C:\\data\\Lithology\\Bungendore"
   ]
  },
  {
   "cell_type": "code",
   "execution_count": null,
   "metadata": {},
   "outputs": [],
   "source": [
    "if data_path is None:\n",
    "    if ('ELA_DATA' in os.environ):\n",
    "        data_path = os.environ['ELA_DATA']\n",
    "    elif sys.platform == 'win32':\n",
    "        data_path = r'C:\\data\\Lithology'\n",
    "    else:\n",
    "        username = os.environ['USER']\n",
    "        data_path = os.path.join('/home', username, 'data')"
   ]
  },
  {
   "cell_type": "code",
   "execution_count": null,
   "metadata": {},
   "outputs": [],
   "source": [
    "example_folder = \"./examples\"\n",
    "examples = [f for f in os.listdir(example_folder) if f.endswith('.gpx')]"
   ]
  },
  {
   "cell_type": "code",
   "execution_count": null,
   "metadata": {},
   "outputs": [],
   "source": [
    "data_path"
   ]
  },
  {
   "cell_type": "code",
   "execution_count": null,
   "metadata": {},
   "outputs": [],
   "source": [
    "cbr_datadir = os.path.join(data_path, 'Canberra')\n",
    "cbr_datadir_out = os.path.join(cbr_datadir, 'out')\n",
    "ngis_datadir = os.path.join(data_path, 'NGIS')\n",
    "act_shp_datadir = os.path.join(ngis_datadir, 'shp_ACT')\n",
    "bidgee_shp_datadir = os.path.join(ngis_datadir, 'shp_murrumbidgee_river')"
   ]
  },
  {
   "cell_type": "code",
   "execution_count": null,
   "metadata": {},
   "outputs": [],
   "source": [
    "# classified_logs_filename = os.path.join(cbr_datadir_out,'classified_logs.pkl')\n",
    "# with open(classified_logs_filename, 'rb') as handle:\n",
    "#     df = pickle.load(handle)"
   ]
  },
  {
   "cell_type": "code",
   "execution_count": null,
   "metadata": {},
   "outputs": [],
   "source": [
    "df = pd.read_csv(os.path.join(cbr_datadir_out,'classified_logs.csv'))"
   ]
  },
  {
   "cell_type": "code",
   "execution_count": null,
   "metadata": {},
   "outputs": [],
   "source": [
    "# geoloc_filename = os.path.join(cbr_datadir_out,'geoloc.pkl')\n",
    "# with open(geoloc_filename, 'rb') as handle:\n",
    "#     geoloc = pickle.load(handle)"
   ]
  },
  {
   "cell_type": "code",
   "execution_count": null,
   "metadata": {},
   "outputs": [],
   "source": [
    "geoloc = pd.read_csv(os.path.join(cbr_datadir_out,'geoloc.csv'))"
   ]
  },
  {
   "cell_type": "code",
   "execution_count": null,
   "metadata": {},
   "outputs": [],
   "source": [
    "DEPTH_FROM_COL = 'FromDepth'\n",
    "DEPTH_TO_COL = 'ToDepth'\n",
    "\n",
    "TOP_ELEV_COL = 'TopElev'\n",
    "BOTTOM_ELEV_COL = 'BottomElev'\n",
    "\n",
    "LITHO_DESC_COL = 'Description'\n",
    "HYDRO_CODE_COL = 'HydroCode'\n",
    "\n",
    "HYDRO_ID_COL = 'HydroID'\n",
    "BORE_ID_COL = 'BoreID'"
   ]
  },
  {
   "cell_type": "code",
   "execution_count": null,
   "metadata": {},
   "outputs": [],
   "source": [
    "# if we want to keep vboreholes that have more than one row\n",
    "x = df[HYDRO_ID_COL].values\n",
    "unique, counts = np.unique(x, return_counts=True)\n",
    "multiple_counts = unique[counts > 1]\n",
    "len(multiple_counts), len(unique)"
   ]
  },
  {
   "cell_type": "code",
   "execution_count": null,
   "metadata": {},
   "outputs": [],
   "source": [
    "keep = set(df[HYDRO_ID_COL].values)\n",
    "keep = set(multiple_counts)\n",
    "s = geoloc[HYDRO_ID_COL]"
   ]
  },
  {
   "cell_type": "code",
   "execution_count": null,
   "metadata": {},
   "outputs": [],
   "source": [
    "geoloc = geoloc[s.isin(keep)]"
   ]
  },
  {
   "cell_type": "markdown",
   "metadata": {},
   "source": [
    "# Viewer\n",
    "\n",
    "Derived from [voila-gpx-viewer](https://github.com/jtpio/voila-gpx-viewer) and [ipyleaflet docs](https://ipyleaflet.readthedocs.io/en/latest/api_reference/popup.html)\n",
    "\n",
    "However this is very difficult to adapt, actually use case is quite different from the GPX data. ipyleaflet doc is sparse and how to I guess the content of callbacks??\n",
    "https://towardsdatascience.com/interactive-controls-for-jupyter-notebooks-f5c94829aee6\n",
    "\n",
    "\n"
   ]
  },
  {
   "cell_type": "code",
   "execution_count": null,
   "metadata": {},
   "outputs": [],
   "source": [
    "# from bqplot import Axis, Figure, Lines, LinearScale\n",
    "# from bqplot.interacts import IndexSelector\n",
    "# from ipyleaflet import basemaps, FullScreenControl, LayerGroup, Map, MeasureControl, Polyline, Marker, MarkerCluster, CircleMarker, WidgetControl\n",
    "# from ipywidgets import Button, HTML, HBox, VBox, Checkbox, FileUpload, Label, Output, IntSlider, Layout, Image, link\n",
    "from ipywidgets import Output, HTML\n",
    "from ipyleaflet import Map, Marker, MarkerCluster, basemaps"
   ]
  },
  {
   "cell_type": "code",
   "execution_count": null,
   "metadata": {},
   "outputs": [],
   "source": [
    "import ipywidgets as widgets\n",
    "from ipysheet import sheet, cell, column\n",
    "import ipysheet"
   ]
  },
  {
   "cell_type": "code",
   "execution_count": null,
   "metadata": {},
   "outputs": [],
   "source": [
    "class GlobalThing:\n",
    "    def __init__(self, bore_data, displayed_colnames = None):\n",
    "        self.marker_info = dict()\n",
    "        self.bore_data = bore_data\n",
    "        if displayed_colnames is None:\n",
    "            displayed_colnames = [BORE_ID_COL, DEPTH_FROM_COL, DEPTH_TO_COL, LITHO_DESC_COL] # 'Lithology_1', 'MajorLithCode']]\n",
    "        self.displayed_colnames = displayed_colnames\n",
    "    \n",
    "    def add_marker_info(self, lat, lon, code):\n",
    "        self.marker_info[(lat, lon)] = code\n",
    "    \n",
    "    def get_code(self, lat, lon):\n",
    "        return self.marker_info[(lat, lon)]\n",
    "\n",
    "    def data_for_hydroid(self, ident):\n",
    "        df_sub = self.bore_data.loc[df[HYDRO_ID_COL] == ident]\n",
    "        return df_sub[self.displayed_colnames]\n",
    "\n",
    "    def register_geolocations(self, geoloc):\n",
    "        for index, row in geoloc.iterrows():\n",
    "            self.add_marker_info(row.Latitude, row.Longitude, row.HydroID)"
   ]
  },
  {
   "cell_type": "code",
   "execution_count": null,
   "metadata": {},
   "outputs": [],
   "source": [
    "globalthing = GlobalThing(df, displayed_colnames = [BORE_ID_COL, DEPTH_FROM_COL, DEPTH_TO_COL, LITHO_DESC_COL, 'Lithology_1'])\n",
    "globalthing.register_geolocations(geoloc)"
   ]
  },
  {
   "cell_type": "code",
   "execution_count": null,
   "metadata": {},
   "outputs": [],
   "source": [
    "def plot_map(geoloc, click_handler):\n",
    "    \"\"\"\n",
    "    Plot the markers for each borehole, and register a custom click_handler\n",
    "    \"\"\"\n",
    "    mean_lat = geoloc.Latitude.mean()\n",
    "    mean_lng = geoloc.Longitude.mean()\n",
    "    # create the map\n",
    "    m = Map(center=(mean_lat, mean_lng), zoom=12, basemap=basemaps.Stamen.Terrain)\n",
    "    m.layout.height = '600px'\n",
    "    # show trace\n",
    "    markers = []\n",
    "    for index, row in geoloc.iterrows():\n",
    "        message = HTML()\n",
    "        message.value = str(row.HydroID)\n",
    "        message.placeholder = \"\"\n",
    "        message.description = \"HydroID\"\n",
    "        marker = Marker(location=(row.Latitude, row.Longitude))\n",
    "        marker.on_click(click_handler)\n",
    "        marker.popup = message\n",
    "        markers.append(marker)\n",
    "    marker_cluster = MarkerCluster(\n",
    "        markers=markers\n",
    "    )\n",
    "    # not sure whether we could register once instead of each marker:\n",
    "    # marker_cluster.on_click(click_handler)\n",
    "    m.add_layer(marker_cluster);\n",
    "    # m.add_control(FullScreenControl())\n",
    "    return m"
   ]
  },
  {
   "cell_type": "code",
   "execution_count": null,
   "metadata": {},
   "outputs": [],
   "source": [
    "# If printing a data frame straight to an output widget\n",
    "def raw_print(out, ident):\n",
    "    bore_data = globalthing.data_for_hydroid(ident)\n",
    "    out.clear_output()\n",
    "    with out:\n",
    "        print(ident)        \n",
    "        print(bore_data)\n",
    "        \n",
    "def click_handler_rawprint(**kwargs):\n",
    "    blah = dict(**kwargs)\n",
    "    xy = blah['coordinates']\n",
    "    ident = globalthing.get_code(xy[0], xy[1])\n",
    "    raw_print(out, ident)\n"
   ]
  },
  {
   "cell_type": "code",
   "execution_count": null,
   "metadata": {},
   "outputs": [],
   "source": [
    "# to display using an ipysheet\n",
    "def mk_sheet(d):\n",
    "    return ipysheet.pandas_loader.from_dataframe(d)\n",
    "\n",
    "def upate_display_df(ident):\n",
    "    bore_data = globalthing.data_for_hydroid(ident)\n",
    "    out.clear_output()\n",
    "    with out:\n",
    "        display(mk_sheet(bore_data))        \n",
    "\n",
    "def click_handler_ipysheet(**kwargs):\n",
    "    blah = dict(**kwargs)\n",
    "    xy = blah['coordinates']\n",
    "    ident = globalthing.get_code(xy[0], xy[1])\n",
    "    upate_display_df(ident)\n"
   ]
  },
  {
   "cell_type": "code",
   "execution_count": null,
   "metadata": {},
   "outputs": [],
   "source": [
    "out = widgets.Output(layout={'border': '1px solid black'})"
   ]
  },
  {
   "cell_type": "code",
   "execution_count": null,
   "metadata": {},
   "outputs": [],
   "source": [
    "plot_map(geoloc, click_handler_ipysheet)\n",
    "# plot_map(geoloc, click_handler_rawprint)"
   ]
  },
  {
   "cell_type": "code",
   "execution_count": null,
   "metadata": {},
   "outputs": [],
   "source": [
    "out"
   ]
  },
  {
   "cell_type": "code",
   "execution_count": null,
   "metadata": {},
   "outputs": [],
   "source": [
    "## Appendix A : qgrid, but at best ended up with \"Model not available\". May not work yet with Jupyter lab 1.0.x\n",
    "\n",
    "# import qgrid\n",
    "\n",
    "# d = data_for_hydroid(10062775)\n",
    "# d\n",
    "\n",
    "# import ipywidgets as widgets\n",
    "\n",
    "# def build_qgrid():\n",
    "#     qgrid.set_grid_option('maxVisibleRows', 10)\n",
    "#     col_opts = { \n",
    "#         'editable': False,\n",
    "#     }\n",
    "#     qgrid_widget = qgrid.show_grid(d, show_toolbar=False, column_options=col_opts)\n",
    "#     qgrid_widget.layout = widgets.Layout(width='920px')\n",
    "#     return qgrid_widget, qgrid\n",
    "\n",
    "# qgrid_widget, qgrid = build_qgrid()\n",
    "\n",
    "# display(qgrid_widget)\n",
    "\n",
    "# pitch_app = widgets.VBox(qgrid_widget)\n",
    "# display(pitch_app)\n",
    "\n",
    "# def click_handler(**kwargs):\n",
    "#     blah = dict(**kwargs)\n",
    "#     xy = blah['coordinates']\n",
    "#     ident = globalthing.get_code(xy[0], xy[1])\n",
    "#     bore_data = data_for_hydroid(ident)\n",
    "#     grid.df = bore_data"
   ]
  },
  {
   "cell_type": "code",
   "execution_count": null,
   "metadata": {},
   "outputs": [],
   "source": [
    "\n",
    "## Appendix B: using striplog \n",
    "\n",
    "# from striplog import Striplog, Interval, Component, Legend, Decor\n",
    "\n",
    "\n",
    "# import matplotlib as mpl\n",
    "# lithologies = ['shale', 'clay','granite','soil','sand', 'porphyry','siltstone','gravel', '']\n",
    "# lithology_color_names = ['lightslategrey', 'olive', 'dimgray', 'chocolate',  'gold', 'tomato', 'teal', 'lavender', 'black']\n",
    "# lithology_colors = [mpl.colors.cnames[clr] for clr in lithology_color_names]\n",
    "\n",
    "# clrs = dict(zip(lithologies, lithology_colors))\n",
    "\n",
    "# def mk_decor(lithology, component):\n",
    "#     dcor = {'color': clrs[lithology],\n",
    "#         'component': component,\n",
    "#         'width': 2}\n",
    "#     return Decor(dcor)\n",
    "\n",
    "# def create_striplog_itvs(d):\n",
    "#     itvs = []\n",
    "#     dcrs = []\n",
    "#     for index, row in d.iterrows():\n",
    "#         litho = row.Lithology_1\n",
    "#         c = Component({'description':row.Description,'lithology': litho})\n",
    "#         decor = mk_decor(litho, c)\n",
    "#         itvs.append(Interval(row.FromDepth, row.ToDepth, components=[c]) )\n",
    "#         dcrs.append(decor)\n",
    "#     return itvs, dcrs\n",
    "\n",
    "# def click_handler(**kwargs):\n",
    "#     blah = dict(**kwargs)\n",
    "#     xy = blah['coordinates']\n",
    "#     ident = globalthing.get_code(xy[0], xy[1])\n",
    "#     bore_data = data_for_hydroid(ident)\n",
    "#     itvs, dcrs = create_striplog_itvs(bore_data)\n",
    "#     s = Striplog(itvs)\n",
    "#     with out:\n",
    "#         print(ident)\n",
    "#         print(s.plot(legend = Legend(dcrs)))\n",
    "\n",
    "# def plot_striplog(bore_data, ax=None):\n",
    "#     itvs, dcrs = create_striplog_itvs(bore_data)\n",
    "#     s = Striplog(itvs)\n",
    "#     s.plot(legend = Legend(dcrs), ax=ax)\n",
    "\n",
    "# def plot_evaluation_metrics(bore_data):\n",
    "#     fig, ax = plt.subplots(figsize=(12, 3))\n",
    "#     # actual plotting\n",
    "#     plot_striplog(bore_data, ax=ax)\n",
    "#     # finalize\n",
    "#     fig.suptitle(\"Evaluation metrics with cutoff\\n\", va='bottom')\n",
    "#     plt.show()\n",
    "#     plt.close(fig)\n",
    "\n",
    "# %matplotlib inline\n",
    "# from ipywidgets import interactive\n",
    "# import matplotlib.pyplot as plt\n",
    "# import numpy as np\n",
    "\n",
    "# def f(m, b):\n",
    "#     plt.figure(2)\n",
    "#     x = np.linspace(-10, 10, num=1000)\n",
    "#     plt.plot(x, m * x + b)\n",
    "#     plt.ylim(-5, 5)\n",
    "#     plt.show()\n",
    "\n",
    "# interactive_plot = interactive(f, m=(-2.0, 2.0), b=(-3, 3, 0.5))\n",
    "# output = interactive_plot.children[-1]\n",
    "# output.layout.height = '350px'\n",
    "# interactive_plot\n",
    "\n",
    "# def update_sheet(s, d):\n",
    "#     print(\"before: %s\"%(s.rows))\n",
    "#     s.rows = len(d)\n",
    "#     for i in range(len(d.columns)):\n",
    "#         s.cells[i].value = d[d.columns[i]].values"
   ]
  },
  {
   "cell_type": "code",
   "execution_count": null,
   "metadata": {},
   "outputs": [],
   "source": []
  }
 ],
 "metadata": {
  "kernelspec": {
   "display_name": "Py3 ELA",
   "language": "python",
   "name": "ela"
  },
  "language_info": {
   "codemirror_mode": {
    "name": "ipython",
    "version": 3
   },
   "file_extension": ".py",
   "mimetype": "text/x-python",
   "name": "python",
   "nbconvert_exporter": "python",
   "pygments_lexer": "ipython3",
   "version": "3.7.3"
  }
 },
 "nbformat": 4,
 "nbformat_minor": 4
}
