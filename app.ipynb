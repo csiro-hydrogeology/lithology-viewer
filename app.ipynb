{
 "cells": [
  {
   "cell_type": "code",
   "execution_count": null,
   "metadata": {
    "ExecuteTime": {
     "end_time": "2018-02-27T01:54:38.357642Z",
     "start_time": "2018-02-27T01:54:36.460827Z"
    },
    "init_cell": true
   },
   "outputs": [],
   "source": [
    "import os\n",
    "import sys\n",
    "import pandas as pd\n",
    "import numpy as np\n",
    "import matplotlib.pyplot as plt\n",
    "import rasterio\n",
    "from rasterio.plot import show\n",
    "import geopandas as gpd\n",
    "import pickle\n"
   ]
  },
  {
   "cell_type": "code",
   "execution_count": null,
   "metadata": {},
   "outputs": [],
   "source": [
    "data_path = None"
   ]
  },
  {
   "cell_type": "code",
   "execution_count": null,
   "metadata": {},
   "outputs": [],
   "source": [
    "#data_path = '/home/myusername/data' # On Linux, if you now have the folder /home/myusername/data/Bungendore\n",
    "#data_path = r'C:\\data\\Lithology'  # windows, if you have C:\\data\\Lithology\\Bungendore"
   ]
  },
  {
   "cell_type": "code",
   "execution_count": null,
   "metadata": {},
   "outputs": [],
   "source": [
    "if data_path is None:\n",
    "    if ('ELA_DATA' in os.environ):\n",
    "        data_path = os.environ['ELA_DATA']\n",
    "    elif sys.platform == 'win32':\n",
    "        data_path = r'C:\\data\\Lithology'\n",
    "    else:\n",
    "        username = os.environ['USER']\n",
    "        data_path = os.path.join('/home', username, 'data')"
   ]
  },
  {
   "cell_type": "code",
   "execution_count": null,
   "metadata": {},
   "outputs": [],
   "source": [
    "data_path"
   ]
  },
  {
   "cell_type": "code",
   "execution_count": null,
   "metadata": {},
   "outputs": [],
   "source": [
    "cbr_datadir = os.path.join(data_path, 'Canberra')\n",
    "cbr_datadir_out = os.path.join(cbr_datadir, 'out')\n",
    "ngis_datadir = os.path.join(data_path, 'NGIS')\n",
    "act_shp_datadir = os.path.join(ngis_datadir, 'shp_ACT')\n",
    "bidgee_shp_datadir = os.path.join(ngis_datadir, 'shp_murrumbidgee_river')"
   ]
  },
  {
   "cell_type": "code",
   "execution_count": null,
   "metadata": {},
   "outputs": [],
   "source": [
    "classified_logs_filename = os.path.join(cbr_datadir_out,'classified_logs.pkl')\n",
    "with open(classified_logs_filename, 'rb') as handle:\n",
    "    df = pickle.load(handle)"
   ]
  },
  {
   "cell_type": "code",
   "execution_count": null,
   "metadata": {},
   "outputs": [],
   "source": [
    "geoloc_filename = os.path.join(cbr_datadir_out,'geoloc.pkl')\n",
    "with open(geoloc_filename, 'rb') as handle:\n",
    "    geoloc = pickle.load(handle)\n",
    "    "
   ]
  },
  {
   "cell_type": "code",
   "execution_count": null,
   "metadata": {},
   "outputs": [],
   "source": [
    "DEPTH_FROM_COL = 'FromDepth'\n",
    "DEPTH_TO_COL = 'ToDepth'\n",
    "\n",
    "TOP_ELEV_COL = 'TopElev'\n",
    "BOTTOM_ELEV_COL = 'BottomElev'\n",
    "\n",
    "LITHO_DESC_COL = 'Description'\n",
    "HYDRO_CODE_COL = 'HydroCode'\n",
    "\n",
    "HYDRO_ID_COL = 'HydroID'\n",
    "BORE_ID_COL = 'BoreID'"
   ]
  },
  {
   "cell_type": "code",
   "execution_count": null,
   "metadata": {},
   "outputs": [],
   "source": [
    "keep = set(df[HYDRO_ID_COL].values)\n",
    "s = geoloc[HYDRO_ID_COL]"
   ]
  },
  {
   "cell_type": "code",
   "execution_count": null,
   "metadata": {},
   "outputs": [],
   "source": [
    "geoloc = geoloc[s.isin(keep)]"
   ]
  },
  {
   "cell_type": "markdown",
   "metadata": {},
   "source": [
    "# Viewer\n",
    "\n",
    "Derived from [voila-gpx-viewer](https://github.com/jtpio/voila-gpx-viewer) and [ipyleaflet docs](https://ipyleaflet.readthedocs.io/en/latest/api_reference/popup.html)\n",
    "\n",
    "However this is very difficult to adapt, actually use case is quite different from the GPX data. ipyleaflet doc is sparse and how to I guess the content of callbacks??\n",
    "https://towardsdatascience.com/interactive-controls-for-jupyter-notebooks-f5c94829aee6\n",
    "\n",
    "\n"
   ]
  },
  {
   "cell_type": "code",
   "execution_count": null,
   "metadata": {},
   "outputs": [],
   "source": [
    "# from bqplot import Axis, Figure, Lines, LinearScale\n",
    "# from bqplot.interacts import IndexSelector\n",
    "# from ipyleaflet import basemaps, FullScreenControl, LayerGroup, Map, MeasureControl, Polyline, Marker, MarkerCluster, CircleMarker, WidgetControl\n",
    "# from ipywidgets import Button, HTML, HBox, VBox, Checkbox, FileUpload, Label, Output, IntSlider, Layout, Image, link\n",
    "from ipywidgets import Output\n",
    "from ipyleaflet import Map, Marker, MarkerCluster, basemaps"
   ]
  },
  {
   "cell_type": "code",
   "execution_count": null,
   "metadata": {},
   "outputs": [],
   "source": [
    "out = Output(layout={'border': '1px solid black'})"
   ]
  },
  {
   "cell_type": "code",
   "execution_count": null,
   "metadata": {},
   "outputs": [],
   "source": [
    "class GlobalThing:\n",
    "    def __init__(self):\n",
    "        self.marker_info = dict()\n",
    "    \n",
    "    def add_marker_info(self, lat, lon, code):\n",
    "        self.marker_info[(lat, lon)] = code\n",
    "    \n",
    "    def get_code(self, lat, lon):\n",
    "        return self.marker_info[(lat, lon)]\n",
    "    \n",
    "globalthing = GlobalThing()"
   ]
  },
  {
   "cell_type": "code",
   "execution_count": null,
   "metadata": {},
   "outputs": [],
   "source": [
    "def data_for_hydroid(ident):\n",
    "    df_sub = df.loc[df['HydroID'] == ident]\n",
    "    return df_sub[['BoreID', 'FromDepth', 'ToDepth', 'MajorLithCode',\n",
    "       'MinorLithCode', 'Description', \n",
    "       'Lithology_1', 'Lithology_2']]"
   ]
  },
  {
   "cell_type": "code",
   "execution_count": null,
   "metadata": {},
   "outputs": [],
   "source": [
    "# data_for_hydroid(80000628)"
   ]
  },
  {
   "cell_type": "code",
   "execution_count": null,
   "metadata": {},
   "outputs": [],
   "source": [
    "def click_handler(**kwargs):\n",
    "    blah = dict(**kwargs)\n",
    "    xy = blah['coordinates']\n",
    "    ident = globalthing.get_code(xy[0], xy[1])\n",
    "    bore_data = data_for_hydroid(ident)\n",
    "    out.clear_output()\n",
    "    with out:\n",
    "        print(ident)        \n",
    "        print(bore_data)"
   ]
  },
  {
   "cell_type": "code",
   "execution_count": null,
   "metadata": {},
   "outputs": [],
   "source": [
    "def plot_map(geoloc):\n",
    "    \"\"\"\n",
    "    Plot the GPS trace on a map\n",
    "    \"\"\"\n",
    "    mean_lat = geoloc.Latitude.mean()\n",
    "    mean_lng = geoloc.Longitude.mean()\n",
    "    # create the map\n",
    "    m = Map(center=(mean_lat, mean_lng), zoom=12, basemap=basemaps.Stamen.Terrain)\n",
    "    # show trace\n",
    "    markers = []\n",
    "    for index, row in geoloc.iterrows():\n",
    "        #message = HTML()\n",
    "        #message.value = row.HydroCode\n",
    "        #message.placeholder = \"Some HTML\"\n",
    "        #message.description = \"Some HTML\"\n",
    "        globalthing.add_marker_info(row.Latitude, row.Longitude, row.HydroID)\n",
    "        marker = Marker(location=(row.Latitude, row.Longitude))\n",
    "        marker.on_click(click_handler)\n",
    "        #marker.popup = message\n",
    "        markers.append(marker)\n",
    "    marker_cluster = MarkerCluster(\n",
    "        markers=markers\n",
    "    )\n",
    "    #marker_cluster.on_click(click_handler)\n",
    "    m.add_layer(marker_cluster);\n",
    "    # m.add_control(FullScreenControl())\n",
    "    return m"
   ]
  },
  {
   "cell_type": "code",
   "execution_count": null,
   "metadata": {},
   "outputs": [],
   "source": [
    "plot_map(geoloc)"
   ]
  },
  {
   "cell_type": "code",
   "execution_count": null,
   "metadata": {},
   "outputs": [],
   "source": [
    "out"
   ]
  },
  {
   "cell_type": "markdown",
   "metadata": {},
   "source": [
    "## Experiment"
   ]
  },
  {
   "cell_type": "code",
   "execution_count": null,
   "metadata": {},
   "outputs": [],
   "source": [
    "def plot_borehole_data(df):\n",
    "    # We may have something fancy visual down the track, for now, a dataframe subsetting. \n",
    "    px = [p.Time for p in points]\n",
    "    py = [p.CND_011 for p in points]\n",
    "\n",
    "    x_scale, y_scale = LinearScale(), LogScale()\n",
    "    x_scale.allow_padding = False\n",
    "    x_ax = Axis(label='Time (s)', scale=x_scale)\n",
    "    y_ax = Axis(label='CND 011(?)', scale=y_scale, orientation='vertical')\n",
    "\n",
    "    lines = Lines(x=px, y=py, scales={'x': x_scale, 'y': y_scale})\n",
    "\n",
    "    elevation = Figure(title='CND 011 Chart', axes=[x_ax, y_ax], marks=[lines])\n",
    "    elevation.layout.width = 'auto'\n",
    "    elevation.layout.height = 'auto'\n",
    "    elevation.layout.min_height = '500px'\n",
    "\n",
    "    elevation.interaction = IndexSelector(scale=x_scale)\n",
    "\n",
    "    return elevation"
   ]
  },
  {
   "cell_type": "code",
   "execution_count": null,
   "metadata": {},
   "outputs": [],
   "source": [
    "def link_geo_borehole(geomap, boreholelayer):\n",
    "    \"\"\"\n",
    "    Links the geolocation of the markers to the display of the bvorehole log\n",
    "    Changing the selection on the marker will update the\n",
    "    borehole display\n",
    "    \"\"\"\n",
    "    # add a checkbox to auto center\n",
    "    autocenter = Checkbox(value=False, description='Auto Center')\n",
    "    autocenter_control = WidgetControl(widget=autocenter, position='bottomright')\n",
    "    geomap.add_control(autocenter_control)\n",
    "\n",
    "    brushintsel = geomap.interaction\n",
    "    def update_range(change):\n",
    "        \"\"\"\n",
    "        Update the position on the map when the elevation\n",
    "        graph selector changes\n",
    "        \"\"\"\n",
    "        if brushintsel.selected.shape != (1,):\n",
    "            return\n",
    "        marker.visible = True\n",
    "        selected = brushintsel.selected # time stamp in seconds for a day\n",
    "        point = find_point(selected)\n",
    "        marker.location = (point.Latitude, point.Longitude)\n",
    "        if autocenter.value:\n",
    "            trace.center = marker.location\n",
    "        #position = max(0, int((selected / distance_from_start) * len(points)))\n",
    "    brushintsel.observe(update_range, 'selected')\n",
    "\n",
    "    \n",
    "def link_trace_elevation(trace, elevation, points):\n",
    "    \"\"\"\n",
    "    Link the trace the elevation graph.\n",
    "    Changing the selection on the elevation will update the\n",
    "    marker on the map\n",
    "    \"\"\"\n",
    "    times = np.asarray([p.Time for p in points])\n",
    "\n",
    "    def find_point(time):\n",
    "        \"\"\"\n",
    "        Find a point given the time\n",
    "        \"\"\"\n",
    "        dist_1 = abs(times - time)\n",
    "        pos = np.argmin(dist_1)\n",
    "        return points[pos]\n",
    "    \n",
    "    # add a checkbox to auto center\n",
    "    autocenter = Checkbox(value=False, description='Auto Center')\n",
    "    autocenter_control = WidgetControl(widget=autocenter, position='bottomright')\n",
    "    trace.add_control(autocenter_control)\n",
    "    # mark the current position on the map\n",
    "    start = points[0]\n",
    "    marker = CircleMarker(visible=False, location=(start.Latitude, start.Longitude),\n",
    "                          radius=10, color=\"green\", fill_color=\"green\")\n",
    "    trace.add_layer(marker)\n",
    "    brushintsel = elevation.interaction\n",
    "    def update_range(change):\n",
    "        \"\"\"\n",
    "        Update the position on the map when the elevation\n",
    "        graph selector changes\n",
    "        \"\"\"\n",
    "        if brushintsel.selected.shape != (1,):\n",
    "            return\n",
    "        marker.visible = True\n",
    "        selected = brushintsel.selected # time stamp in seconds for a day\n",
    "        point = find_point(selected)\n",
    "        marker.location = (point.Latitude, point.Longitude)\n",
    "        if autocenter.value:\n",
    "            trace.center = marker.location\n",
    "        #position = max(0, int((selected / distance_from_start) * len(points)))\n",
    "    brushintsel.observe(update_range, 'selected')\n"
   ]
  },
  {
   "cell_type": "code",
   "execution_count": null,
   "metadata": {},
   "outputs": [],
   "source": [
    "from ipywidgets import FloatSlider\n",
    "interact(slow_function,i=FloatSlider(min=1e5, max=1e7, step=1e5));"
   ]
  },
  {
   "cell_type": "code",
   "execution_count": null,
   "metadata": {},
   "outputs": [],
   "source": [
    "def plot_gpx(points):\n",
    "    trace = plot_map(points)\n",
    "    elevation = plot_elevation(points)\n",
    "    debug = Label(value='')\n",
    "    display(trace)\n",
    "    display(elevation)\n",
    "    display(debug)\n",
    "    link_trace_elevation(trace, elevation, points)"
   ]
  },
  {
   "cell_type": "code",
   "execution_count": null,
   "metadata": {},
   "outputs": [],
   "source": [
    "plot_gpx(points)"
   ]
  },
  {
   "cell_type": "code",
   "execution_count": null,
   "metadata": {},
   "outputs": [],
   "source": []
  }
 ],
 "metadata": {
  "kernelspec": {
   "display_name": "Py3 ELA",
   "language": "python",
   "name": "ela"
  },
  "language_info": {
   "codemirror_mode": {
    "name": "ipython",
    "version": 3
   },
   "file_extension": ".py",
   "mimetype": "text/x-python",
   "name": "python",
   "nbconvert_exporter": "python",
   "pygments_lexer": "ipython3",
   "version": "3.7.3"
  }
 },
 "nbformat": 4,
 "nbformat_minor": 4
}
